{
 "cells": [
  {
   "cell_type": "code",
   "execution_count": 24,
   "metadata": {},
   "outputs": [],
   "source": [
    "import pandas as pd\n",
    "import csv\n"
   ]
  },
  {
   "cell_type": "code",
   "execution_count": null,
   "metadata": {},
   "outputs": [],
   "source": [
    "df = pd.read_excel(r\"YourFilePath\")\n",
    "df.to_csv(r\"YourFilePath\")"
   ]
  },
  {
   "cell_type": "code",
   "execution_count": null,
   "metadata": {},
   "outputs": [],
   "source": [
    "# Alternative csv creation:\n",
    "header = df.columns\n",
    "data = df.iloc[1:]\n",
    "\n",
    "with open('Nashville.csv', 'w', newline='', encoding='UTF8') as f:\n",
    "     writer = csv.writer(f)\n",
    "     writer.writerow(header)\n",
    "     for x in range(len(df.iloc[:])):\n",
    "\n",
    "          writer.writerow(df.iloc[x])"
   ]
  },
  {
   "cell_type": "code",
   "execution_count": null,
   "metadata": {},
   "outputs": [],
   "source": [
    "# Used this mini script to avoid manually copying the columns in the SQL import file\n",
    "\n",
    "# print(\"(\")\n",
    "# for x in range(1,20):\n",
    "#     print(f'@col{x},')\n",
    "# print(\")\")\n",
    "\n",
    "for y, x in enumerate(df.columns, start=1):\n",
    "    print(f\"{x} = nullif(@col{y}, ''),\")\n"
   ]
  }
 ],
 "metadata": {
  "kernelspec": {
   "display_name": "base",
   "language": "python",
   "name": "python3"
  },
  "language_info": {
   "codemirror_mode": {
    "name": "ipython",
    "version": 3
   },
   "file_extension": ".py",
   "mimetype": "text/x-python",
   "name": "python",
   "nbconvert_exporter": "python",
   "pygments_lexer": "ipython3",
   "version": "3.11.4"
  },
  "orig_nbformat": 4
 },
 "nbformat": 4,
 "nbformat_minor": 2
}
